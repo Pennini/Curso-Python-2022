{
 "cells": [
  {
   "attachments": {},
   "cell_type": "markdown",
   "id": "a31d71bd",
   "metadata": {},
   "source": [
    "# Pandas\n",
    "\n",
    "biblioteca de código aberto em Python projetada para análise de dados. Ela fornece estruturas de dados e ferramentas de manipulação de dados de alta performance e fáceis de usar, tornando-a uma das bibliotecas mais populares para trabalhar com dados tabulares."
   ]
  },
  {
   "cell_type": "code",
   "execution_count": 1,
   "id": "ef9bc518",
   "metadata": {},
   "outputs": [
    {
     "name": "stdout",
     "output_type": "stream",
     "text": [
      "Requirement already satisfied: pandas in c:\\users\\lenovo\\appdata\\local\\packages\\pythonsoftwarefoundation.python.3.11_qbz5n2kfra8p0\\localcache\\local-packages\\python311\\site-packages (2.0.2)\n",
      "Requirement already satisfied: python-dateutil>=2.8.2 in c:\\users\\lenovo\\appdata\\local\\packages\\pythonsoftwarefoundation.python.3.11_qbz5n2kfra8p0\\localcache\\local-packages\\python311\\site-packages (from pandas) (2.8.2)\n",
      "Requirement already satisfied: pytz>=2020.1 in c:\\users\\lenovo\\appdata\\local\\packages\\pythonsoftwarefoundation.python.3.11_qbz5n2kfra8p0\\localcache\\local-packages\\python311\\site-packages (from pandas) (2023.3)\n",
      "Requirement already satisfied: tzdata>=2022.1 in c:\\users\\lenovo\\appdata\\local\\packages\\pythonsoftwarefoundation.python.3.11_qbz5n2kfra8p0\\localcache\\local-packages\\python311\\site-packages (from pandas) (2023.3)\n",
      "Requirement already satisfied: numpy>=1.21.0 in c:\\users\\lenovo\\appdata\\local\\packages\\pythonsoftwarefoundation.python.3.11_qbz5n2kfra8p0\\localcache\\local-packages\\python311\\site-packages (from pandas) (1.25.0)\n",
      "Requirement already satisfied: six>=1.5 in c:\\users\\lenovo\\appdata\\local\\packages\\pythonsoftwarefoundation.python.3.11_qbz5n2kfra8p0\\localcache\\local-packages\\python311\\site-packages (from python-dateutil>=2.8.2->pandas) (1.16.0)\n"
     ]
    }
   ],
   "source": [
    "# Como instalar e importar\n",
    "!pip install pandas\n",
    "import pandas as pd"
   ]
  },
  {
   "attachments": {},
   "cell_type": "markdown",
   "id": "cf010060",
   "metadata": {},
   "source": [
    "# Series\n",
    "\n",
    "estrutura unidimensional semelhante a um array (numpy) ou uma coluna de uma planilha. As operações que você pode realizar nas Series são semelhantes às operações em um DataFrame"
   ]
  },
  {
   "cell_type": "code",
   "execution_count": 6,
   "id": "a13b9483",
   "metadata": {},
   "outputs": [
    {
     "data": {
      "text/plain": [
       "0    30\n",
       "1    40\n",
       "2    70\n",
       "3    50\n",
       "dtype: int64"
      ]
     },
     "execution_count": 6,
     "metadata": {},
     "output_type": "execute_result"
    }
   ],
   "source": [
    "# Criando um Series com preços de livros\n",
    "s = pd.Series([30, 40, 70, 50])\n",
    "s"
   ]
  },
  {
   "cell_type": "code",
   "execution_count": 7,
   "id": "9aceb73a",
   "metadata": {},
   "outputs": [
    {
     "name": "stdout",
     "output_type": "stream",
     "text": [
      "70\n"
     ]
    }
   ],
   "source": [
    "# Acessando elementos\n",
    "\n",
    "print(s[2])"
   ]
  },
  {
   "cell_type": "code",
   "execution_count": 8,
   "id": "6800f4ae",
   "metadata": {},
   "outputs": [
    {
     "data": {
      "text/plain": [
       "Livro a    30\n",
       "Livro b    40\n",
       "Livro c    70\n",
       "Livro d    50\n",
       "dtype: int64"
      ]
     },
     "execution_count": 8,
     "metadata": {},
     "output_type": "execute_result"
    }
   ],
   "source": [
    "# Alterar os índices\n",
    "\n",
    "s = pd.Series([30, 40, 70, 50], index = ['Livro a', \"Livro b\", \"Livro c\", \"Livro d\"])\n",
    "s"
   ]
  },
  {
   "cell_type": "code",
   "execution_count": 9,
   "id": "461379b6",
   "metadata": {},
   "outputs": [
    {
     "data": {
      "text/plain": [
       "Livro a    32\n",
       "Livro b    42\n",
       "Livro c    72\n",
       "Livro d    52\n",
       "dtype: int64"
      ]
     },
     "execution_count": 9,
     "metadata": {},
     "output_type": "execute_result"
    }
   ],
   "source": [
    "# Operações matemáticas\n",
    "\n",
    "s = s + 2\n",
    "s"
   ]
  },
  {
   "attachments": {},
   "cell_type": "markdown",
   "id": "a02557ea",
   "metadata": {},
   "source": [
    "* sum(): Calcula a soma de todos os elementos do Series.\n",
    "* mean(): Calcula a média dos elementos do Series.\n",
    "* max(): Encontra o valor máximo no Series.\n",
    "* min(): Encontra o valor mínimo no Series.\n",
    "* unique(): Retorna os valores únicos no Series."
   ]
  },
  {
   "cell_type": "code",
   "execution_count": 13,
   "id": "aa8d2820",
   "metadata": {},
   "outputs": [
    {
     "name": "stdout",
     "output_type": "stream",
     "text": [
      "198\n",
      "49.5\n",
      "72\n",
      "32\n",
      "[32 42 72 52]\n"
     ]
    }
   ],
   "source": [
    "print(s.sum())       # Soma dos elementos\n",
    "print(s.mean())      # Média dos elementos\n",
    "print(s.max())       # Valor máximo\n",
    "print(s.min())       # Valor mínimo\n",
    "print(s.unique())    # Valores únicos"
   ]
  },
  {
   "attachments": {},
   "cell_type": "markdown",
   "id": "6f980e66",
   "metadata": {},
   "source": [
    "# Data Frame"
   ]
  },
  {
   "attachments": {},
   "cell_type": "markdown",
   "id": "31bc81df",
   "metadata": {},
   "source": [
    "DataFrame é uma estrutura de dados tabular bidimensional, semelhante a uma planilha ou tabela de banco de dados, onde os dados são organizados em colunas rotuladas.\n",
    "É uma das estruturas de dados mais importantes na biblioteca pandas, que é amplamente utilizada para análise de dados"
   ]
  },
  {
   "cell_type": "code",
   "execution_count": 4,
   "id": "e5e1f487",
   "metadata": {},
   "outputs": [
    {
     "data": {
      "text/html": [
       "<div>\n",
       "<style scoped>\n",
       "    .dataframe tbody tr th:only-of-type {\n",
       "        vertical-align: middle;\n",
       "    }\n",
       "\n",
       "    .dataframe tbody tr th {\n",
       "        vertical-align: top;\n",
       "    }\n",
       "\n",
       "    .dataframe thead th {\n",
       "        text-align: right;\n",
       "    }\n",
       "</style>\n",
       "<table border=\"1\" class=\"dataframe\">\n",
       "  <thead>\n",
       "    <tr style=\"text-align: right;\">\n",
       "      <th></th>\n",
       "      <th>Matérias</th>\n",
       "      <th>Fernanda</th>\n",
       "      <th>Sandra</th>\n",
       "      <th>Guilherme</th>\n",
       "    </tr>\n",
       "  </thead>\n",
       "  <tbody>\n",
       "    <tr>\n",
       "      <th>0</th>\n",
       "      <td>Cálculo</td>\n",
       "      <td>5</td>\n",
       "      <td>7</td>\n",
       "      <td>10</td>\n",
       "    </tr>\n",
       "    <tr>\n",
       "      <th>1</th>\n",
       "      <td>Microeconomia</td>\n",
       "      <td>7</td>\n",
       "      <td>3</td>\n",
       "      <td>2</td>\n",
       "    </tr>\n",
       "    <tr>\n",
       "      <th>2</th>\n",
       "      <td>Contabilidade</td>\n",
       "      <td>10</td>\n",
       "      <td>9</td>\n",
       "      <td>7</td>\n",
       "    </tr>\n",
       "  </tbody>\n",
       "</table>\n",
       "</div>"
      ],
      "text/plain": [
       "        Matérias  Fernanda  Sandra  Guilherme\n",
       "0        Cálculo         5       7         10\n",
       "1  Microeconomia         7       3          2\n",
       "2  Contabilidade        10       9          7"
      ]
     },
     "execution_count": 4,
     "metadata": {},
     "output_type": "execute_result"
    }
   ],
   "source": [
    "df_notas= pd.DataFrame ({\"Matérias\": [\"Cálculo\",\"Microeconomia\",\"Contabilidade\"],\n",
    "                        \"Fernanda\":[5,7,10],\n",
    "                         \"Sandra\": [7,3,9],\n",
    "                         \"Guilherme\": [10,2,7] })\n",
    "df_notas"
   ]
  },
  {
   "cell_type": "code",
   "execution_count": 8,
   "id": "28905970",
   "metadata": {},
   "outputs": [
    {
     "data": {
      "text/html": [
       "<div>\n",
       "<style scoped>\n",
       "    .dataframe tbody tr th:only-of-type {\n",
       "        vertical-align: middle;\n",
       "    }\n",
       "\n",
       "    .dataframe tbody tr th {\n",
       "        vertical-align: top;\n",
       "    }\n",
       "\n",
       "    .dataframe thead th {\n",
       "        text-align: right;\n",
       "    }\n",
       "</style>\n",
       "<table border=\"1\" class=\"dataframe\">\n",
       "  <thead>\n",
       "    <tr style=\"text-align: right;\">\n",
       "      <th></th>\n",
       "      <th>Matérias</th>\n",
       "      <th>Fernanda</th>\n",
       "      <th>Sandra</th>\n",
       "      <th>Guilherme</th>\n",
       "    </tr>\n",
       "  </thead>\n",
       "  <tbody>\n",
       "    <tr>\n",
       "      <th>0</th>\n",
       "      <td>Cálculo</td>\n",
       "      <td>5</td>\n",
       "      <td>7</td>\n",
       "      <td>10</td>\n",
       "    </tr>\n",
       "  </tbody>\n",
       "</table>\n",
       "</div>"
      ],
      "text/plain": [
       "  Matérias  Fernanda  Sandra  Guilherme\n",
       "0  Cálculo         5       7         10"
      ]
     },
     "execution_count": 8,
     "metadata": {},
     "output_type": "execute_result"
    }
   ],
   "source": [
    "#head(): Retornar as primeiras linhas do DataFrame.\n",
    "df_notas.head(1)"
   ]
  },
  {
   "cell_type": "code",
   "execution_count": 9,
   "id": "f30c1d60",
   "metadata": {},
   "outputs": [
    {
     "data": {
      "text/html": [
       "<div>\n",
       "<style scoped>\n",
       "    .dataframe tbody tr th:only-of-type {\n",
       "        vertical-align: middle;\n",
       "    }\n",
       "\n",
       "    .dataframe tbody tr th {\n",
       "        vertical-align: top;\n",
       "    }\n",
       "\n",
       "    .dataframe thead th {\n",
       "        text-align: right;\n",
       "    }\n",
       "</style>\n",
       "<table border=\"1\" class=\"dataframe\">\n",
       "  <thead>\n",
       "    <tr style=\"text-align: right;\">\n",
       "      <th></th>\n",
       "      <th>Matérias</th>\n",
       "      <th>Fernanda</th>\n",
       "      <th>Sandra</th>\n",
       "      <th>Guilherme</th>\n",
       "    </tr>\n",
       "  </thead>\n",
       "  <tbody>\n",
       "    <tr>\n",
       "      <th>1</th>\n",
       "      <td>Microeconomia</td>\n",
       "      <td>7</td>\n",
       "      <td>3</td>\n",
       "      <td>2</td>\n",
       "    </tr>\n",
       "    <tr>\n",
       "      <th>2</th>\n",
       "      <td>Contabilidade</td>\n",
       "      <td>10</td>\n",
       "      <td>9</td>\n",
       "      <td>7</td>\n",
       "    </tr>\n",
       "  </tbody>\n",
       "</table>\n",
       "</div>"
      ],
      "text/plain": [
       "        Matérias  Fernanda  Sandra  Guilherme\n",
       "1  Microeconomia         7       3          2\n",
       "2  Contabilidade        10       9          7"
      ]
     },
     "execution_count": 9,
     "metadata": {},
     "output_type": "execute_result"
    }
   ],
   "source": [
    "#tail(): Retorna as últimas linhas do DataFrame.\n",
    "df_notas.tail(2)"
   ]
  },
  {
   "cell_type": "code",
   "execution_count": 13,
   "id": "65a26f65",
   "metadata": {},
   "outputs": [
    {
     "data": {
      "text/plain": [
       "Index(['Matérias', 'Fernanda', 'Sandra', 'Guilherme'], dtype='object')"
      ]
     },
     "execution_count": 13,
     "metadata": {},
     "output_type": "execute_result"
    }
   ],
   "source": [
    "#columns(): Retorna as colunas\n",
    "df_notas.columns"
   ]
  },
  {
   "cell_type": "code",
   "execution_count": 15,
   "id": "a2a47f8e",
   "metadata": {},
   "outputs": [
    {
     "data": {
      "text/plain": [
       "0    10\n",
       "1     2\n",
       "2     7\n",
       "Name: Guilherme, dtype: int64"
      ]
     },
     "execution_count": 15,
     "metadata": {},
     "output_type": "execute_result"
    }
   ],
   "source": [
    "#Um colchete: Series#\n",
    "df_notas[\"Guilherme\"]"
   ]
  },
  {
   "cell_type": "code",
   "execution_count": 16,
   "id": "a4c1ba5b",
   "metadata": {},
   "outputs": [
    {
     "data": {
      "text/html": [
       "<div>\n",
       "<style scoped>\n",
       "    .dataframe tbody tr th:only-of-type {\n",
       "        vertical-align: middle;\n",
       "    }\n",
       "\n",
       "    .dataframe tbody tr th {\n",
       "        vertical-align: top;\n",
       "    }\n",
       "\n",
       "    .dataframe thead th {\n",
       "        text-align: right;\n",
       "    }\n",
       "</style>\n",
       "<table border=\"1\" class=\"dataframe\">\n",
       "  <thead>\n",
       "    <tr style=\"text-align: right;\">\n",
       "      <th></th>\n",
       "      <th>Guilherme</th>\n",
       "    </tr>\n",
       "  </thead>\n",
       "  <tbody>\n",
       "    <tr>\n",
       "      <th>0</th>\n",
       "      <td>10</td>\n",
       "    </tr>\n",
       "    <tr>\n",
       "      <th>1</th>\n",
       "      <td>2</td>\n",
       "    </tr>\n",
       "    <tr>\n",
       "      <th>2</th>\n",
       "      <td>7</td>\n",
       "    </tr>\n",
       "  </tbody>\n",
       "</table>\n",
       "</div>"
      ],
      "text/plain": [
       "   Guilherme\n",
       "0         10\n",
       "1          2\n",
       "2          7"
      ]
     },
     "execution_count": 16,
     "metadata": {},
     "output_type": "execute_result"
    }
   ],
   "source": [
    "#Dois colchetes: DataFrame novo#\n",
    "df_notas[['Guilherme']]"
   ]
  },
  {
   "cell_type": "code",
   "execution_count": 17,
   "id": "a6b25bee",
   "metadata": {},
   "outputs": [
    {
     "data": {
      "text/html": [
       "<div>\n",
       "<style scoped>\n",
       "    .dataframe tbody tr th:only-of-type {\n",
       "        vertical-align: middle;\n",
       "    }\n",
       "\n",
       "    .dataframe tbody tr th {\n",
       "        vertical-align: top;\n",
       "    }\n",
       "\n",
       "    .dataframe thead th {\n",
       "        text-align: right;\n",
       "    }\n",
       "</style>\n",
       "<table border=\"1\" class=\"dataframe\">\n",
       "  <thead>\n",
       "    <tr style=\"text-align: right;\">\n",
       "      <th></th>\n",
       "      <th>Fernanda</th>\n",
       "      <th>Sandra</th>\n",
       "      <th>Guilherme</th>\n",
       "    </tr>\n",
       "  </thead>\n",
       "  <tbody>\n",
       "    <tr>\n",
       "      <th>count</th>\n",
       "      <td>3.000000</td>\n",
       "      <td>3.000000</td>\n",
       "      <td>3.000000</td>\n",
       "    </tr>\n",
       "    <tr>\n",
       "      <th>mean</th>\n",
       "      <td>7.333333</td>\n",
       "      <td>6.333333</td>\n",
       "      <td>6.333333</td>\n",
       "    </tr>\n",
       "    <tr>\n",
       "      <th>std</th>\n",
       "      <td>2.516611</td>\n",
       "      <td>3.055050</td>\n",
       "      <td>4.041452</td>\n",
       "    </tr>\n",
       "    <tr>\n",
       "      <th>min</th>\n",
       "      <td>5.000000</td>\n",
       "      <td>3.000000</td>\n",
       "      <td>2.000000</td>\n",
       "    </tr>\n",
       "    <tr>\n",
       "      <th>25%</th>\n",
       "      <td>6.000000</td>\n",
       "      <td>5.000000</td>\n",
       "      <td>4.500000</td>\n",
       "    </tr>\n",
       "    <tr>\n",
       "      <th>50%</th>\n",
       "      <td>7.000000</td>\n",
       "      <td>7.000000</td>\n",
       "      <td>7.000000</td>\n",
       "    </tr>\n",
       "    <tr>\n",
       "      <th>75%</th>\n",
       "      <td>8.500000</td>\n",
       "      <td>8.000000</td>\n",
       "      <td>8.500000</td>\n",
       "    </tr>\n",
       "    <tr>\n",
       "      <th>max</th>\n",
       "      <td>10.000000</td>\n",
       "      <td>9.000000</td>\n",
       "      <td>10.000000</td>\n",
       "    </tr>\n",
       "  </tbody>\n",
       "</table>\n",
       "</div>"
      ],
      "text/plain": [
       "        Fernanda    Sandra  Guilherme\n",
       "count   3.000000  3.000000   3.000000\n",
       "mean    7.333333  6.333333   6.333333\n",
       "std     2.516611  3.055050   4.041452\n",
       "min     5.000000  3.000000   2.000000\n",
       "25%     6.000000  5.000000   4.500000\n",
       "50%     7.000000  7.000000   7.000000\n",
       "75%     8.500000  8.000000   8.500000\n",
       "max    10.000000  9.000000  10.000000"
      ]
     },
     "execution_count": 17,
     "metadata": {},
     "output_type": "execute_result"
    }
   ],
   "source": [
    "#describe(): Calcula estatísticas resumidas (como média, desvio padrão, mínimo, máximo, quartis) para colunas numéricas.\n",
    "df_notas.describe()"
   ]
  },
  {
   "cell_type": "code",
   "execution_count": 20,
   "id": "2aa5154e",
   "metadata": {},
   "outputs": [
    {
     "data": {
      "text/plain": [
       "(3, 4)"
      ]
     },
     "execution_count": 20,
     "metadata": {},
     "output_type": "execute_result"
    }
   ],
   "source": [
    "#shape: Retorna o número de linhas e colunas do DataFrame.\n",
    "df_notas.shape"
   ]
  },
  {
   "cell_type": "code",
   "execution_count": 23,
   "id": "108f7b8c",
   "metadata": {},
   "outputs": [
    {
     "data": {
      "text/html": [
       "<div>\n",
       "<style scoped>\n",
       "    .dataframe tbody tr th:only-of-type {\n",
       "        vertical-align: middle;\n",
       "    }\n",
       "\n",
       "    .dataframe tbody tr th {\n",
       "        vertical-align: top;\n",
       "    }\n",
       "\n",
       "    .dataframe thead th {\n",
       "        text-align: right;\n",
       "    }\n",
       "</style>\n",
       "<table border=\"1\" class=\"dataframe\">\n",
       "  <thead>\n",
       "    <tr style=\"text-align: right;\">\n",
       "      <th></th>\n",
       "      <th>Matérias</th>\n",
       "      <th>Fernanda</th>\n",
       "      <th>Sandra</th>\n",
       "      <th>Guilherme</th>\n",
       "    </tr>\n",
       "  </thead>\n",
       "  <tbody>\n",
       "    <tr>\n",
       "      <th>2</th>\n",
       "      <td>Contabilidade</td>\n",
       "      <td>10</td>\n",
       "      <td>9</td>\n",
       "      <td>7</td>\n",
       "    </tr>\n",
       "  </tbody>\n",
       "</table>\n",
       "</div>"
      ],
      "text/plain": [
       "        Matérias  Fernanda  Sandra  Guilherme\n",
       "2  Contabilidade        10       9          7"
      ]
     },
     "execution_count": 23,
     "metadata": {},
     "output_type": "execute_result"
    }
   ],
   "source": [
    "#Filtrar dados com um Boleano\n",
    "df_notas[(df_notas[\"Fernanda\"]>5) & (df_notas[\"Sandra\"]>6)]"
   ]
  },
  {
   "cell_type": "code",
   "execution_count": 26,
   "id": "b8b76e43",
   "metadata": {},
   "outputs": [
    {
     "data": {
      "text/html": [
       "<div>\n",
       "<style scoped>\n",
       "    .dataframe tbody tr th:only-of-type {\n",
       "        vertical-align: middle;\n",
       "    }\n",
       "\n",
       "    .dataframe tbody tr th {\n",
       "        vertical-align: top;\n",
       "    }\n",
       "\n",
       "    .dataframe thead th {\n",
       "        text-align: right;\n",
       "    }\n",
       "</style>\n",
       "<table border=\"1\" class=\"dataframe\">\n",
       "  <thead>\n",
       "    <tr style=\"text-align: right;\">\n",
       "      <th></th>\n",
       "      <th>Matérias</th>\n",
       "      <th>Fernanda</th>\n",
       "      <th>Sandra</th>\n",
       "    </tr>\n",
       "  </thead>\n",
       "  <tbody>\n",
       "    <tr>\n",
       "      <th>0</th>\n",
       "      <td>Cálculo</td>\n",
       "      <td>5</td>\n",
       "      <td>7</td>\n",
       "    </tr>\n",
       "    <tr>\n",
       "      <th>1</th>\n",
       "      <td>Microeconomia</td>\n",
       "      <td>7</td>\n",
       "      <td>3</td>\n",
       "    </tr>\n",
       "    <tr>\n",
       "      <th>2</th>\n",
       "      <td>Contabilidade</td>\n",
       "      <td>10</td>\n",
       "      <td>9</td>\n",
       "    </tr>\n",
       "  </tbody>\n",
       "</table>\n",
       "</div>"
      ],
      "text/plain": [
       "        Matérias  Fernanda  Sandra\n",
       "0        Cálculo         5       7\n",
       "1  Microeconomia         7       3\n",
       "2  Contabilidade        10       9"
      ]
     },
     "execution_count": 26,
     "metadata": {},
     "output_type": "execute_result"
    }
   ],
   "source": [
    "#drop(): Remove linhas ou colunas específicas do DataFrame.\n",
    "#Remover colunas: axis=1\n",
    "#Remover linhas: axis=2\n",
    "df_notas.drop([\"Guilherme\"],axis=1)"
   ]
  },
  {
   "attachments": {},
   "cell_type": "markdown",
   "id": "b95eb436",
   "metadata": {},
   "source": [
    "# Leitura de Dados"
   ]
  },
  {
   "attachments": {},
   "cell_type": "markdown",
   "id": "668d1b38",
   "metadata": {},
   "source": [
    "O Pandas disponibiliza inúmeras ferramentas para leitura de dados de arquivos. A leitura de arquivos \"csv\" é mais comum devido à disponibilidade de dados neste formato. O Pandas Dataframe torna-se muito útil principalmente quando se trabalha com grandes quantias de dados"
   ]
  },
  {
   "attachments": {},
   "cell_type": "markdown",
   "id": "9d77f989",
   "metadata": {},
   "source": [
    "### Leitura de Arquivo CSV"
   ]
  },
  {
   "cell_type": "code",
   "execution_count": 2,
   "id": "11f937be",
   "metadata": {},
   "outputs": [],
   "source": [
    "import pandas as pd\n",
    "df = pd.read_csv(\"data_pandas.csv\", sep = \",\", index_col=0)"
   ]
  },
  {
   "attachments": {},
   "cell_type": "markdown",
   "id": "882cb41a",
   "metadata": {},
   "source": [
    "### .head()"
   ]
  },
  {
   "cell_type": "code",
   "execution_count": 3,
   "id": "09fae5dd",
   "metadata": {},
   "outputs": [
    {
     "data": {
      "text/html": [
       "<div>\n",
       "<style scoped>\n",
       "    .dataframe tbody tr th:only-of-type {\n",
       "        vertical-align: middle;\n",
       "    }\n",
       "\n",
       "    .dataframe tbody tr th {\n",
       "        vertical-align: top;\n",
       "    }\n",
       "\n",
       "    .dataframe thead th {\n",
       "        text-align: right;\n",
       "    }\n",
       "</style>\n",
       "<table border=\"1\" class=\"dataframe\">\n",
       "  <thead>\n",
       "    <tr style=\"text-align: right;\">\n",
       "      <th></th>\n",
       "      <th>Filial</th>\n",
       "      <th>Cidade</th>\n",
       "      <th>Tipo cliente</th>\n",
       "      <th>Genero</th>\n",
       "      <th>Linha produto</th>\n",
       "      <th>Preco unitario</th>\n",
       "      <th>Quantidade</th>\n",
       "      <th>Taxa 5%</th>\n",
       "      <th>Total</th>\n",
       "      <th>Data</th>\n",
       "      <th>Hora</th>\n",
       "      <th>Forma pagamento</th>\n",
       "      <th>Custo produto vendido</th>\n",
       "      <th>Margem bruta</th>\n",
       "      <th>Receita bruta</th>\n",
       "      <th>Rating</th>\n",
       "    </tr>\n",
       "    <tr>\n",
       "      <th>ID</th>\n",
       "      <th></th>\n",
       "      <th></th>\n",
       "      <th></th>\n",
       "      <th></th>\n",
       "      <th></th>\n",
       "      <th></th>\n",
       "      <th></th>\n",
       "      <th></th>\n",
       "      <th></th>\n",
       "      <th></th>\n",
       "      <th></th>\n",
       "      <th></th>\n",
       "      <th></th>\n",
       "      <th></th>\n",
       "      <th></th>\n",
       "      <th></th>\n",
       "    </tr>\n",
       "  </thead>\n",
       "  <tbody>\n",
       "    <tr>\n",
       "      <th>319-50-3348</th>\n",
       "      <td>B</td>\n",
       "      <td>Mandalay</td>\n",
       "      <td>Normal</td>\n",
       "      <td>Female</td>\n",
       "      <td>Home and lifestyle</td>\n",
       "      <td>40.30</td>\n",
       "      <td>2</td>\n",
       "      <td>4.0300</td>\n",
       "      <td>84.6300</td>\n",
       "      <td>3/11/2019</td>\n",
       "      <td>15:30</td>\n",
       "      <td>Ewallet</td>\n",
       "      <td>80.60</td>\n",
       "      <td>4.761905</td>\n",
       "      <td>4.0300</td>\n",
       "      <td>4.4</td>\n",
       "    </tr>\n",
       "    <tr>\n",
       "      <th>390-80-5128</th>\n",
       "      <td>B</td>\n",
       "      <td>Mandalay</td>\n",
       "      <td>Member</td>\n",
       "      <td>Female</td>\n",
       "      <td>Health and beauty</td>\n",
       "      <td>19.15</td>\n",
       "      <td>1</td>\n",
       "      <td>0.9575</td>\n",
       "      <td>20.1075</td>\n",
       "      <td>1/28/2019</td>\n",
       "      <td>17:58</td>\n",
       "      <td>Credit card</td>\n",
       "      <td>19.15</td>\n",
       "      <td>4.761905</td>\n",
       "      <td>0.9575</td>\n",
       "      <td>9.5</td>\n",
       "    </tr>\n",
       "    <tr>\n",
       "      <th>523-38-0215</th>\n",
       "      <td>C</td>\n",
       "      <td>Naypyitaw</td>\n",
       "      <td>Normal</td>\n",
       "      <td>Male</td>\n",
       "      <td>Home and lifestyle</td>\n",
       "      <td>37.00</td>\n",
       "      <td>1</td>\n",
       "      <td>1.8500</td>\n",
       "      <td>38.8500</td>\n",
       "      <td>3/6/2019</td>\n",
       "      <td>13:29</td>\n",
       "      <td>Credit card</td>\n",
       "      <td>37.00</td>\n",
       "      <td>4.761905</td>\n",
       "      <td>1.8500</td>\n",
       "      <td>7.9</td>\n",
       "    </tr>\n",
       "    <tr>\n",
       "      <th>565-91-4567</th>\n",
       "      <td>B</td>\n",
       "      <td>Mandalay</td>\n",
       "      <td>Normal</td>\n",
       "      <td>Male</td>\n",
       "      <td>Health and beauty</td>\n",
       "      <td>10.75</td>\n",
       "      <td>8</td>\n",
       "      <td>4.3000</td>\n",
       "      <td>90.3000</td>\n",
       "      <td>3/15/2019</td>\n",
       "      <td>14:38</td>\n",
       "      <td>Ewallet</td>\n",
       "      <td>86.00</td>\n",
       "      <td>4.761905</td>\n",
       "      <td>4.3000</td>\n",
       "      <td>6.2</td>\n",
       "    </tr>\n",
       "    <tr>\n",
       "      <th>829-34-3910</th>\n",
       "      <td>A</td>\n",
       "      <td>Yangon</td>\n",
       "      <td>Normal</td>\n",
       "      <td>Female</td>\n",
       "      <td>Health and beauty</td>\n",
       "      <td>71.38</td>\n",
       "      <td>10</td>\n",
       "      <td>35.6900</td>\n",
       "      <td>749.4900</td>\n",
       "      <td>3/29/2019</td>\n",
       "      <td>19:21</td>\n",
       "      <td>Cash</td>\n",
       "      <td>713.80</td>\n",
       "      <td>4.761905</td>\n",
       "      <td>35.6900</td>\n",
       "      <td>5.7</td>\n",
       "    </tr>\n",
       "  </tbody>\n",
       "</table>\n",
       "</div>"
      ],
      "text/plain": [
       "            Filial     Cidade Tipo cliente  Genero       Linha produto  \\\n",
       "ID                                                                       \n",
       "319-50-3348      B   Mandalay       Normal  Female  Home and lifestyle   \n",
       "390-80-5128      B   Mandalay       Member  Female   Health and beauty   \n",
       "523-38-0215      C  Naypyitaw       Normal    Male  Home and lifestyle   \n",
       "565-91-4567      B   Mandalay       Normal    Male   Health and beauty   \n",
       "829-34-3910      A     Yangon       Normal  Female   Health and beauty   \n",
       "\n",
       "             Preco unitario  Quantidade  Taxa 5%     Total       Data   Hora  \\\n",
       "ID                                                                             \n",
       "319-50-3348           40.30           2   4.0300   84.6300  3/11/2019  15:30   \n",
       "390-80-5128           19.15           1   0.9575   20.1075  1/28/2019  17:58   \n",
       "523-38-0215           37.00           1   1.8500   38.8500   3/6/2019  13:29   \n",
       "565-91-4567           10.75           8   4.3000   90.3000  3/15/2019  14:38   \n",
       "829-34-3910           71.38          10  35.6900  749.4900  3/29/2019  19:21   \n",
       "\n",
       "            Forma pagamento  Custo produto vendido  Margem bruta  \\\n",
       "ID                                                                 \n",
       "319-50-3348         Ewallet                  80.60      4.761905   \n",
       "390-80-5128     Credit card                  19.15      4.761905   \n",
       "523-38-0215     Credit card                  37.00      4.761905   \n",
       "565-91-4567         Ewallet                  86.00      4.761905   \n",
       "829-34-3910            Cash                 713.80      4.761905   \n",
       "\n",
       "             Receita bruta  Rating  \n",
       "ID                                  \n",
       "319-50-3348         4.0300     4.4  \n",
       "390-80-5128         0.9575     9.5  \n",
       "523-38-0215         1.8500     7.9  \n",
       "565-91-4567         4.3000     6.2  \n",
       "829-34-3910        35.6900     5.7  "
      ]
     },
     "execution_count": 3,
     "metadata": {},
     "output_type": "execute_result"
    }
   ],
   "source": [
    "df.head()"
   ]
  },
  {
   "attachments": {},
   "cell_type": "markdown",
   "id": "24cf3dd0",
   "metadata": {},
   "source": [
    "### .shape"
   ]
  },
  {
   "cell_type": "code",
   "execution_count": 4,
   "id": "021a2dc2",
   "metadata": {},
   "outputs": [
    {
     "data": {
      "text/plain": [
       "(1100, 16)"
      ]
     },
     "execution_count": 4,
     "metadata": {},
     "output_type": "execute_result"
    }
   ],
   "source": [
    "df.shape"
   ]
  },
  {
   "attachments": {},
   "cell_type": "markdown",
   "id": "1598bbfe",
   "metadata": {},
   "source": [
    "### Valores Vazios .isna()\n",
    "\n",
    "Retorna um valor booleano indicando \"True\"(vazio) ou \"False\" (preenchido) para cada valor no dataframe."
   ]
  },
  {
   "cell_type": "code",
   "execution_count": 5,
   "id": "74de96f3",
   "metadata": {},
   "outputs": [
    {
     "data": {
      "text/html": [
       "<div>\n",
       "<style scoped>\n",
       "    .dataframe tbody tr th:only-of-type {\n",
       "        vertical-align: middle;\n",
       "    }\n",
       "\n",
       "    .dataframe tbody tr th {\n",
       "        vertical-align: top;\n",
       "    }\n",
       "\n",
       "    .dataframe thead th {\n",
       "        text-align: right;\n",
       "    }\n",
       "</style>\n",
       "<table border=\"1\" class=\"dataframe\">\n",
       "  <thead>\n",
       "    <tr style=\"text-align: right;\">\n",
       "      <th></th>\n",
       "      <th>Filial</th>\n",
       "      <th>Cidade</th>\n",
       "      <th>Tipo cliente</th>\n",
       "      <th>Genero</th>\n",
       "      <th>Linha produto</th>\n",
       "      <th>Preco unitario</th>\n",
       "      <th>Quantidade</th>\n",
       "      <th>Taxa 5%</th>\n",
       "      <th>Total</th>\n",
       "      <th>Data</th>\n",
       "      <th>Hora</th>\n",
       "      <th>Forma pagamento</th>\n",
       "      <th>Custo produto vendido</th>\n",
       "      <th>Margem bruta</th>\n",
       "      <th>Receita bruta</th>\n",
       "      <th>Rating</th>\n",
       "    </tr>\n",
       "    <tr>\n",
       "      <th>ID</th>\n",
       "      <th></th>\n",
       "      <th></th>\n",
       "      <th></th>\n",
       "      <th></th>\n",
       "      <th></th>\n",
       "      <th></th>\n",
       "      <th></th>\n",
       "      <th></th>\n",
       "      <th></th>\n",
       "      <th></th>\n",
       "      <th></th>\n",
       "      <th></th>\n",
       "      <th></th>\n",
       "      <th></th>\n",
       "      <th></th>\n",
       "      <th></th>\n",
       "    </tr>\n",
       "  </thead>\n",
       "  <tbody>\n",
       "    <tr>\n",
       "      <th>319-50-3348</th>\n",
       "      <td>False</td>\n",
       "      <td>False</td>\n",
       "      <td>False</td>\n",
       "      <td>False</td>\n",
       "      <td>False</td>\n",
       "      <td>False</td>\n",
       "      <td>False</td>\n",
       "      <td>False</td>\n",
       "      <td>False</td>\n",
       "      <td>False</td>\n",
       "      <td>False</td>\n",
       "      <td>False</td>\n",
       "      <td>False</td>\n",
       "      <td>False</td>\n",
       "      <td>False</td>\n",
       "      <td>False</td>\n",
       "    </tr>\n",
       "    <tr>\n",
       "      <th>390-80-5128</th>\n",
       "      <td>False</td>\n",
       "      <td>False</td>\n",
       "      <td>False</td>\n",
       "      <td>False</td>\n",
       "      <td>False</td>\n",
       "      <td>False</td>\n",
       "      <td>False</td>\n",
       "      <td>False</td>\n",
       "      <td>False</td>\n",
       "      <td>False</td>\n",
       "      <td>False</td>\n",
       "      <td>False</td>\n",
       "      <td>False</td>\n",
       "      <td>False</td>\n",
       "      <td>False</td>\n",
       "      <td>False</td>\n",
       "    </tr>\n",
       "    <tr>\n",
       "      <th>523-38-0215</th>\n",
       "      <td>False</td>\n",
       "      <td>False</td>\n",
       "      <td>False</td>\n",
       "      <td>False</td>\n",
       "      <td>False</td>\n",
       "      <td>False</td>\n",
       "      <td>False</td>\n",
       "      <td>False</td>\n",
       "      <td>False</td>\n",
       "      <td>False</td>\n",
       "      <td>False</td>\n",
       "      <td>False</td>\n",
       "      <td>False</td>\n",
       "      <td>False</td>\n",
       "      <td>False</td>\n",
       "      <td>False</td>\n",
       "    </tr>\n",
       "    <tr>\n",
       "      <th>565-91-4567</th>\n",
       "      <td>False</td>\n",
       "      <td>False</td>\n",
       "      <td>False</td>\n",
       "      <td>False</td>\n",
       "      <td>False</td>\n",
       "      <td>False</td>\n",
       "      <td>False</td>\n",
       "      <td>False</td>\n",
       "      <td>False</td>\n",
       "      <td>False</td>\n",
       "      <td>False</td>\n",
       "      <td>False</td>\n",
       "      <td>False</td>\n",
       "      <td>False</td>\n",
       "      <td>False</td>\n",
       "      <td>False</td>\n",
       "    </tr>\n",
       "    <tr>\n",
       "      <th>829-34-3910</th>\n",
       "      <td>False</td>\n",
       "      <td>False</td>\n",
       "      <td>False</td>\n",
       "      <td>False</td>\n",
       "      <td>False</td>\n",
       "      <td>False</td>\n",
       "      <td>False</td>\n",
       "      <td>False</td>\n",
       "      <td>False</td>\n",
       "      <td>False</td>\n",
       "      <td>False</td>\n",
       "      <td>False</td>\n",
       "      <td>False</td>\n",
       "      <td>False</td>\n",
       "      <td>False</td>\n",
       "      <td>False</td>\n",
       "    </tr>\n",
       "    <tr>\n",
       "      <th>...</th>\n",
       "      <td>...</td>\n",
       "      <td>...</td>\n",
       "      <td>...</td>\n",
       "      <td>...</td>\n",
       "      <td>...</td>\n",
       "      <td>...</td>\n",
       "      <td>...</td>\n",
       "      <td>...</td>\n",
       "      <td>...</td>\n",
       "      <td>...</td>\n",
       "      <td>...</td>\n",
       "      <td>...</td>\n",
       "      <td>...</td>\n",
       "      <td>...</td>\n",
       "      <td>...</td>\n",
       "      <td>...</td>\n",
       "    </tr>\n",
       "    <tr>\n",
       "      <th>122-61-9553</th>\n",
       "      <td>False</td>\n",
       "      <td>False</td>\n",
       "      <td>False</td>\n",
       "      <td>False</td>\n",
       "      <td>False</td>\n",
       "      <td>False</td>\n",
       "      <td>False</td>\n",
       "      <td>False</td>\n",
       "      <td>False</td>\n",
       "      <td>False</td>\n",
       "      <td>False</td>\n",
       "      <td>False</td>\n",
       "      <td>False</td>\n",
       "      <td>False</td>\n",
       "      <td>False</td>\n",
       "      <td>False</td>\n",
       "    </tr>\n",
       "    <tr>\n",
       "      <th>789-23-8625</th>\n",
       "      <td>False</td>\n",
       "      <td>False</td>\n",
       "      <td>False</td>\n",
       "      <td>False</td>\n",
       "      <td>False</td>\n",
       "      <td>False</td>\n",
       "      <td>False</td>\n",
       "      <td>True</td>\n",
       "      <td>False</td>\n",
       "      <td>False</td>\n",
       "      <td>False</td>\n",
       "      <td>False</td>\n",
       "      <td>False</td>\n",
       "      <td>False</td>\n",
       "      <td>False</td>\n",
       "      <td>False</td>\n",
       "    </tr>\n",
       "    <tr>\n",
       "      <th>600-38-9738</th>\n",
       "      <td>False</td>\n",
       "      <td>False</td>\n",
       "      <td>False</td>\n",
       "      <td>False</td>\n",
       "      <td>False</td>\n",
       "      <td>False</td>\n",
       "      <td>False</td>\n",
       "      <td>False</td>\n",
       "      <td>False</td>\n",
       "      <td>False</td>\n",
       "      <td>False</td>\n",
       "      <td>False</td>\n",
       "      <td>False</td>\n",
       "      <td>False</td>\n",
       "      <td>False</td>\n",
       "      <td>False</td>\n",
       "    </tr>\n",
       "    <tr>\n",
       "      <th>355-34-6244</th>\n",
       "      <td>False</td>\n",
       "      <td>False</td>\n",
       "      <td>False</td>\n",
       "      <td>False</td>\n",
       "      <td>False</td>\n",
       "      <td>False</td>\n",
       "      <td>False</td>\n",
       "      <td>False</td>\n",
       "      <td>False</td>\n",
       "      <td>False</td>\n",
       "      <td>False</td>\n",
       "      <td>False</td>\n",
       "      <td>False</td>\n",
       "      <td>False</td>\n",
       "      <td>False</td>\n",
       "      <td>False</td>\n",
       "    </tr>\n",
       "    <tr>\n",
       "      <th>595-27-4851</th>\n",
       "      <td>False</td>\n",
       "      <td>False</td>\n",
       "      <td>False</td>\n",
       "      <td>False</td>\n",
       "      <td>False</td>\n",
       "      <td>False</td>\n",
       "      <td>False</td>\n",
       "      <td>False</td>\n",
       "      <td>False</td>\n",
       "      <td>False</td>\n",
       "      <td>False</td>\n",
       "      <td>False</td>\n",
       "      <td>False</td>\n",
       "      <td>False</td>\n",
       "      <td>False</td>\n",
       "      <td>False</td>\n",
       "    </tr>\n",
       "  </tbody>\n",
       "</table>\n",
       "<p>1100 rows × 16 columns</p>\n",
       "</div>"
      ],
      "text/plain": [
       "             Filial  Cidade  Tipo cliente  Genero  Linha produto  \\\n",
       "ID                                                                 \n",
       "319-50-3348   False   False         False   False          False   \n",
       "390-80-5128   False   False         False   False          False   \n",
       "523-38-0215   False   False         False   False          False   \n",
       "565-91-4567   False   False         False   False          False   \n",
       "829-34-3910   False   False         False   False          False   \n",
       "...             ...     ...           ...     ...            ...   \n",
       "122-61-9553   False   False         False   False          False   \n",
       "789-23-8625   False   False         False   False          False   \n",
       "600-38-9738   False   False         False   False          False   \n",
       "355-34-6244   False   False         False   False          False   \n",
       "595-27-4851   False   False         False   False          False   \n",
       "\n",
       "             Preco unitario  Quantidade  Taxa 5%  Total   Data   Hora  \\\n",
       "ID                                                                      \n",
       "319-50-3348           False       False    False  False  False  False   \n",
       "390-80-5128           False       False    False  False  False  False   \n",
       "523-38-0215           False       False    False  False  False  False   \n",
       "565-91-4567           False       False    False  False  False  False   \n",
       "829-34-3910           False       False    False  False  False  False   \n",
       "...                     ...         ...      ...    ...    ...    ...   \n",
       "122-61-9553           False       False    False  False  False  False   \n",
       "789-23-8625           False       False     True  False  False  False   \n",
       "600-38-9738           False       False    False  False  False  False   \n",
       "355-34-6244           False       False    False  False  False  False   \n",
       "595-27-4851           False       False    False  False  False  False   \n",
       "\n",
       "             Forma pagamento  Custo produto vendido  Margem bruta  \\\n",
       "ID                                                                  \n",
       "319-50-3348            False                  False         False   \n",
       "390-80-5128            False                  False         False   \n",
       "523-38-0215            False                  False         False   \n",
       "565-91-4567            False                  False         False   \n",
       "829-34-3910            False                  False         False   \n",
       "...                      ...                    ...           ...   \n",
       "122-61-9553            False                  False         False   \n",
       "789-23-8625            False                  False         False   \n",
       "600-38-9738            False                  False         False   \n",
       "355-34-6244            False                  False         False   \n",
       "595-27-4851            False                  False         False   \n",
       "\n",
       "             Receita bruta  Rating  \n",
       "ID                                  \n",
       "319-50-3348          False   False  \n",
       "390-80-5128          False   False  \n",
       "523-38-0215          False   False  \n",
       "565-91-4567          False   False  \n",
       "829-34-3910          False   False  \n",
       "...                    ...     ...  \n",
       "122-61-9553          False   False  \n",
       "789-23-8625          False   False  \n",
       "600-38-9738          False   False  \n",
       "355-34-6244          False   False  \n",
       "595-27-4851          False   False  \n",
       "\n",
       "[1100 rows x 16 columns]"
      ]
     },
     "execution_count": 5,
     "metadata": {},
     "output_type": "execute_result"
    }
   ],
   "source": [
    "df.isna()"
   ]
  },
  {
   "attachments": {},
   "cell_type": "markdown",
   "id": "01089e26",
   "metadata": {},
   "source": [
    "Com \".isna().sum()\" é possível vizualizar de maneira muito mais clara quais itens possuem valores vazios"
   ]
  },
  {
   "cell_type": "code",
   "execution_count": 6,
   "id": "722ee978",
   "metadata": {},
   "outputs": [
    {
     "data": {
      "text/plain": [
       "Filial                     0\n",
       "Cidade                     0\n",
       "Tipo cliente               0\n",
       "Genero                     0\n",
       "Linha produto              0\n",
       "Preco unitario             0\n",
       "Quantidade                 0\n",
       "Taxa 5%                  163\n",
       "Total                      0\n",
       "Data                       0\n",
       "Hora                       0\n",
       "Forma pagamento            0\n",
       "Custo produto vendido      0\n",
       "Margem bruta               0\n",
       "Receita bruta              0\n",
       "Rating                     0\n",
       "dtype: int64"
      ]
     },
     "execution_count": 6,
     "metadata": {},
     "output_type": "execute_result"
    }
   ],
   "source": [
    "df.isna().sum()"
   ]
  },
  {
   "attachments": {},
   "cell_type": "markdown",
   "id": "7c46db7d",
   "metadata": {},
   "source": [
    "Com \"dropna()\" é possível remover itens com valores vazios"
   ]
  },
  {
   "cell_type": "code",
   "execution_count": 7,
   "id": "734c46e8",
   "metadata": {},
   "outputs": [
    {
     "data": {
      "text/plain": [
       "(937, 16)"
      ]
     },
     "execution_count": 7,
     "metadata": {},
     "output_type": "execute_result"
    }
   ],
   "source": [
    "df = df.dropna()\n",
    "df.shape"
   ]
  },
  {
   "cell_type": "code",
   "execution_count": 8,
   "id": "1e7d7a95",
   "metadata": {},
   "outputs": [
    {
     "data": {
      "text/plain": [
       "Filial                   0\n",
       "Cidade                   0\n",
       "Tipo cliente             0\n",
       "Genero                   0\n",
       "Linha produto            0\n",
       "Preco unitario           0\n",
       "Quantidade               0\n",
       "Taxa 5%                  0\n",
       "Total                    0\n",
       "Data                     0\n",
       "Hora                     0\n",
       "Forma pagamento          0\n",
       "Custo produto vendido    0\n",
       "Margem bruta             0\n",
       "Receita bruta            0\n",
       "Rating                   0\n",
       "dtype: int64"
      ]
     },
     "execution_count": 8,
     "metadata": {},
     "output_type": "execute_result"
    }
   ],
   "source": [
    "df.isna().sum()"
   ]
  },
  {
   "attachments": {},
   "cell_type": "markdown",
   "id": "fb816f03",
   "metadata": {},
   "source": [
    "### Valores Duplicados .duplicated()\n",
    "\n",
    "Retorna um valor booleano indicando \"True\"(duplicado) ou \"False\" (novo) para cada valor no dataframe."
   ]
  },
  {
   "cell_type": "code",
   "execution_count": 9,
   "id": "d1fb8ae5",
   "metadata": {},
   "outputs": [
    {
     "data": {
      "text/plain": [
       "92"
      ]
     },
     "execution_count": 9,
     "metadata": {},
     "output_type": "execute_result"
    }
   ],
   "source": [
    "df.duplicated().sum()"
   ]
  },
  {
   "attachments": {},
   "cell_type": "markdown",
   "id": "6790ca09",
   "metadata": {},
   "source": [
    "Com \"drop_duplicates()\" é possível remover linhas duplicadas"
   ]
  },
  {
   "cell_type": "code",
   "execution_count": 10,
   "id": "e99c73fa",
   "metadata": {},
   "outputs": [
    {
     "data": {
      "text/plain": [
       "(845, 16)"
      ]
     },
     "execution_count": 10,
     "metadata": {},
     "output_type": "execute_result"
    }
   ],
   "source": [
    "df = df.drop_duplicates()\n",
    "df.shape"
   ]
  },
  {
   "attachments": {},
   "cell_type": "markdown",
   "id": "50372a44",
   "metadata": {},
   "source": [
    "### Criação e substituição de novas colunas\n",
    "\n",
    "É possivel criar ou substituir colunas ao definir ou redefinir um coluna no seu dataframe"
   ]
  },
  {
   "cell_type": "code",
   "execution_count": 11,
   "id": "c904e285",
   "metadata": {},
   "outputs": [
    {
     "data": {
      "text/plain": [
       "Index(['Filial', 'Cidade', 'Tipo cliente', 'Genero', 'Linha produto',\n",
       "       'Preco unitario', 'Quantidade', 'Taxa 5%', 'Total', 'Data', 'Hora',\n",
       "       'Forma pagamento', 'Custo produto vendido', 'Margem bruta',\n",
       "       'Receita bruta', 'Rating', 'Preço Ajustado'],\n",
       "      dtype='object')"
      ]
     },
     "execution_count": 11,
     "metadata": {},
     "output_type": "execute_result"
    }
   ],
   "source": [
    "#Criação\n",
    "df['Preço Ajustado'] = df[\"Preco unitario\"] * 2\n",
    "df.columns"
   ]
  },
  {
   "cell_type": "code",
   "execution_count": 12,
   "id": "b618a8b3",
   "metadata": {},
   "outputs": [
    {
     "data": {
      "text/html": [
       "<div>\n",
       "<style scoped>\n",
       "    .dataframe tbody tr th:only-of-type {\n",
       "        vertical-align: middle;\n",
       "    }\n",
       "\n",
       "    .dataframe tbody tr th {\n",
       "        vertical-align: top;\n",
       "    }\n",
       "\n",
       "    .dataframe thead th {\n",
       "        text-align: right;\n",
       "    }\n",
       "</style>\n",
       "<table border=\"1\" class=\"dataframe\">\n",
       "  <thead>\n",
       "    <tr style=\"text-align: right;\">\n",
       "      <th></th>\n",
       "      <th>Filial</th>\n",
       "      <th>Cidade</th>\n",
       "      <th>Tipo cliente</th>\n",
       "      <th>Genero</th>\n",
       "      <th>Linha produto</th>\n",
       "      <th>Preco unitario</th>\n",
       "      <th>Quantidade</th>\n",
       "      <th>Taxa 5%</th>\n",
       "      <th>Total</th>\n",
       "      <th>Data</th>\n",
       "      <th>Hora</th>\n",
       "      <th>Forma pagamento</th>\n",
       "      <th>Custo produto vendido</th>\n",
       "      <th>Margem bruta</th>\n",
       "      <th>Receita bruta</th>\n",
       "      <th>Rating</th>\n",
       "    </tr>\n",
       "    <tr>\n",
       "      <th>ID</th>\n",
       "      <th></th>\n",
       "      <th></th>\n",
       "      <th></th>\n",
       "      <th></th>\n",
       "      <th></th>\n",
       "      <th></th>\n",
       "      <th></th>\n",
       "      <th></th>\n",
       "      <th></th>\n",
       "      <th></th>\n",
       "      <th></th>\n",
       "      <th></th>\n",
       "      <th></th>\n",
       "      <th></th>\n",
       "      <th></th>\n",
       "      <th></th>\n",
       "    </tr>\n",
       "  </thead>\n",
       "  <tbody>\n",
       "    <tr>\n",
       "      <th>319-50-3348</th>\n",
       "      <td>B</td>\n",
       "      <td>Mandalay</td>\n",
       "      <td>Normal</td>\n",
       "      <td>Female</td>\n",
       "      <td>Home and lifestyle</td>\n",
       "      <td>80.60</td>\n",
       "      <td>2</td>\n",
       "      <td>4.0300</td>\n",
       "      <td>84.6300</td>\n",
       "      <td>3/11/2019</td>\n",
       "      <td>15:30</td>\n",
       "      <td>Ewallet</td>\n",
       "      <td>80.60</td>\n",
       "      <td>4.761905</td>\n",
       "      <td>4.0300</td>\n",
       "      <td>4.4</td>\n",
       "    </tr>\n",
       "    <tr>\n",
       "      <th>390-80-5128</th>\n",
       "      <td>B</td>\n",
       "      <td>Mandalay</td>\n",
       "      <td>Member</td>\n",
       "      <td>Female</td>\n",
       "      <td>Health and beauty</td>\n",
       "      <td>38.30</td>\n",
       "      <td>1</td>\n",
       "      <td>0.9575</td>\n",
       "      <td>20.1075</td>\n",
       "      <td>1/28/2019</td>\n",
       "      <td>17:58</td>\n",
       "      <td>Credit card</td>\n",
       "      <td>19.15</td>\n",
       "      <td>4.761905</td>\n",
       "      <td>0.9575</td>\n",
       "      <td>9.5</td>\n",
       "    </tr>\n",
       "    <tr>\n",
       "      <th>523-38-0215</th>\n",
       "      <td>C</td>\n",
       "      <td>Naypyitaw</td>\n",
       "      <td>Normal</td>\n",
       "      <td>Male</td>\n",
       "      <td>Home and lifestyle</td>\n",
       "      <td>74.00</td>\n",
       "      <td>1</td>\n",
       "      <td>1.8500</td>\n",
       "      <td>38.8500</td>\n",
       "      <td>3/6/2019</td>\n",
       "      <td>13:29</td>\n",
       "      <td>Credit card</td>\n",
       "      <td>37.00</td>\n",
       "      <td>4.761905</td>\n",
       "      <td>1.8500</td>\n",
       "      <td>7.9</td>\n",
       "    </tr>\n",
       "    <tr>\n",
       "      <th>565-91-4567</th>\n",
       "      <td>B</td>\n",
       "      <td>Mandalay</td>\n",
       "      <td>Normal</td>\n",
       "      <td>Male</td>\n",
       "      <td>Health and beauty</td>\n",
       "      <td>21.50</td>\n",
       "      <td>8</td>\n",
       "      <td>4.3000</td>\n",
       "      <td>90.3000</td>\n",
       "      <td>3/15/2019</td>\n",
       "      <td>14:38</td>\n",
       "      <td>Ewallet</td>\n",
       "      <td>86.00</td>\n",
       "      <td>4.761905</td>\n",
       "      <td>4.3000</td>\n",
       "      <td>6.2</td>\n",
       "    </tr>\n",
       "    <tr>\n",
       "      <th>829-34-3910</th>\n",
       "      <td>A</td>\n",
       "      <td>Yangon</td>\n",
       "      <td>Normal</td>\n",
       "      <td>Female</td>\n",
       "      <td>Health and beauty</td>\n",
       "      <td>142.76</td>\n",
       "      <td>10</td>\n",
       "      <td>35.6900</td>\n",
       "      <td>749.4900</td>\n",
       "      <td>3/29/2019</td>\n",
       "      <td>19:21</td>\n",
       "      <td>Cash</td>\n",
       "      <td>713.80</td>\n",
       "      <td>4.761905</td>\n",
       "      <td>35.6900</td>\n",
       "      <td>5.7</td>\n",
       "    </tr>\n",
       "  </tbody>\n",
       "</table>\n",
       "</div>"
      ],
      "text/plain": [
       "            Filial     Cidade Tipo cliente  Genero       Linha produto  \\\n",
       "ID                                                                       \n",
       "319-50-3348      B   Mandalay       Normal  Female  Home and lifestyle   \n",
       "390-80-5128      B   Mandalay       Member  Female   Health and beauty   \n",
       "523-38-0215      C  Naypyitaw       Normal    Male  Home and lifestyle   \n",
       "565-91-4567      B   Mandalay       Normal    Male   Health and beauty   \n",
       "829-34-3910      A     Yangon       Normal  Female   Health and beauty   \n",
       "\n",
       "             Preco unitario  Quantidade  Taxa 5%     Total       Data   Hora  \\\n",
       "ID                                                                             \n",
       "319-50-3348           80.60           2   4.0300   84.6300  3/11/2019  15:30   \n",
       "390-80-5128           38.30           1   0.9575   20.1075  1/28/2019  17:58   \n",
       "523-38-0215           74.00           1   1.8500   38.8500   3/6/2019  13:29   \n",
       "565-91-4567           21.50           8   4.3000   90.3000  3/15/2019  14:38   \n",
       "829-34-3910          142.76          10  35.6900  749.4900  3/29/2019  19:21   \n",
       "\n",
       "            Forma pagamento  Custo produto vendido  Margem bruta  \\\n",
       "ID                                                                 \n",
       "319-50-3348         Ewallet                  80.60      4.761905   \n",
       "390-80-5128     Credit card                  19.15      4.761905   \n",
       "523-38-0215     Credit card                  37.00      4.761905   \n",
       "565-91-4567         Ewallet                  86.00      4.761905   \n",
       "829-34-3910            Cash                 713.80      4.761905   \n",
       "\n",
       "             Receita bruta  Rating  \n",
       "ID                                  \n",
       "319-50-3348         4.0300     4.4  \n",
       "390-80-5128         0.9575     9.5  \n",
       "523-38-0215         1.8500     7.9  \n",
       "565-91-4567         4.3000     6.2  \n",
       "829-34-3910        35.6900     5.7  "
      ]
     },
     "execution_count": 12,
     "metadata": {},
     "output_type": "execute_result"
    }
   ],
   "source": [
    "#Substituição\n",
    "df = df.drop(df.columns[-1], axis = 1)\n",
    "df[\"Preco unitario\"] = df[\"Preco unitario\"] * 2\n",
    "df.head()\n"
   ]
  },
  {
   "attachments": {},
   "cell_type": "markdown",
   "id": "1f2c164c",
   "metadata": {},
   "source": [
    "### .describe()"
   ]
  },
  {
   "cell_type": "code",
   "execution_count": 13,
   "id": "c9b5f276",
   "metadata": {},
   "outputs": [
    {
     "data": {
      "text/html": [
       "<div>\n",
       "<style scoped>\n",
       "    .dataframe tbody tr th:only-of-type {\n",
       "        vertical-align: middle;\n",
       "    }\n",
       "\n",
       "    .dataframe tbody tr th {\n",
       "        vertical-align: top;\n",
       "    }\n",
       "\n",
       "    .dataframe thead th {\n",
       "        text-align: right;\n",
       "    }\n",
       "</style>\n",
       "<table border=\"1\" class=\"dataframe\">\n",
       "  <thead>\n",
       "    <tr style=\"text-align: right;\">\n",
       "      <th></th>\n",
       "      <th>Preco unitario</th>\n",
       "      <th>Quantidade</th>\n",
       "      <th>Taxa 5%</th>\n",
       "      <th>Total</th>\n",
       "      <th>Custo produto vendido</th>\n",
       "      <th>Margem bruta</th>\n",
       "      <th>Receita bruta</th>\n",
       "      <th>Rating</th>\n",
       "    </tr>\n",
       "  </thead>\n",
       "  <tbody>\n",
       "    <tr>\n",
       "      <th>count</th>\n",
       "      <td>845.000000</td>\n",
       "      <td>845.000000</td>\n",
       "      <td>845.000000</td>\n",
       "      <td>845.000000</td>\n",
       "      <td>845.000000</td>\n",
       "      <td>845.000000</td>\n",
       "      <td>845.000000</td>\n",
       "      <td>845.000000</td>\n",
       "    </tr>\n",
       "    <tr>\n",
       "      <th>mean</th>\n",
       "      <td>112.091408</td>\n",
       "      <td>5.519527</td>\n",
       "      <td>15.912483</td>\n",
       "      <td>334.162152</td>\n",
       "      <td>318.249669</td>\n",
       "      <td>4.761905</td>\n",
       "      <td>15.912483</td>\n",
       "      <td>6.980947</td>\n",
       "    </tr>\n",
       "    <tr>\n",
       "      <th>std</th>\n",
       "      <td>54.480300</td>\n",
       "      <td>3.036299</td>\n",
       "      <td>12.650620</td>\n",
       "      <td>265.663010</td>\n",
       "      <td>253.012390</td>\n",
       "      <td>0.000000</td>\n",
       "      <td>12.650620</td>\n",
       "      <td>1.715749</td>\n",
       "    </tr>\n",
       "    <tr>\n",
       "      <th>min</th>\n",
       "      <td>20.160000</td>\n",
       "      <td>1.000000</td>\n",
       "      <td>0.508500</td>\n",
       "      <td>10.678500</td>\n",
       "      <td>10.170000</td>\n",
       "      <td>4.761905</td>\n",
       "      <td>0.508500</td>\n",
       "      <td>4.000000</td>\n",
       "    </tr>\n",
       "    <tr>\n",
       "      <th>25%</th>\n",
       "      <td>64.500000</td>\n",
       "      <td>3.000000</td>\n",
       "      <td>4.840000</td>\n",
       "      <td>101.640000</td>\n",
       "      <td>96.800000</td>\n",
       "      <td>4.761905</td>\n",
       "      <td>4.840000</td>\n",
       "      <td>5.500000</td>\n",
       "    </tr>\n",
       "    <tr>\n",
       "      <th>50%</th>\n",
       "      <td>112.220000</td>\n",
       "      <td>6.000000</td>\n",
       "      <td>9.848000</td>\n",
       "      <td>206.808000</td>\n",
       "      <td>196.960000</td>\n",
       "      <td>4.761905</td>\n",
       "      <td>9.848000</td>\n",
       "      <td>7.000000</td>\n",
       "    </tr>\n",
       "    <tr>\n",
       "      <th>75%</th>\n",
       "      <td>159.480000</td>\n",
       "      <td>8.000000</td>\n",
       "      <td>24.781500</td>\n",
       "      <td>520.411500</td>\n",
       "      <td>495.630000</td>\n",
       "      <td>4.761905</td>\n",
       "      <td>24.781500</td>\n",
       "      <td>8.500000</td>\n",
       "    </tr>\n",
       "    <tr>\n",
       "      <th>max</th>\n",
       "      <td>199.920000</td>\n",
       "      <td>10.000000</td>\n",
       "      <td>49.650000</td>\n",
       "      <td>1042.650000</td>\n",
       "      <td>993.000000</td>\n",
       "      <td>4.761905</td>\n",
       "      <td>49.650000</td>\n",
       "      <td>10.000000</td>\n",
       "    </tr>\n",
       "  </tbody>\n",
       "</table>\n",
       "</div>"
      ],
      "text/plain": [
       "       Preco unitario  Quantidade     Taxa 5%        Total  \\\n",
       "count      845.000000  845.000000  845.000000   845.000000   \n",
       "mean       112.091408    5.519527   15.912483   334.162152   \n",
       "std         54.480300    3.036299   12.650620   265.663010   \n",
       "min         20.160000    1.000000    0.508500    10.678500   \n",
       "25%         64.500000    3.000000    4.840000   101.640000   \n",
       "50%        112.220000    6.000000    9.848000   206.808000   \n",
       "75%        159.480000    8.000000   24.781500   520.411500   \n",
       "max        199.920000   10.000000   49.650000  1042.650000   \n",
       "\n",
       "       Custo produto vendido  Margem bruta  Receita bruta      Rating  \n",
       "count             845.000000    845.000000     845.000000  845.000000  \n",
       "mean              318.249669      4.761905      15.912483    6.980947  \n",
       "std               253.012390      0.000000      12.650620    1.715749  \n",
       "min                10.170000      4.761905       0.508500    4.000000  \n",
       "25%                96.800000      4.761905       4.840000    5.500000  \n",
       "50%               196.960000      4.761905       9.848000    7.000000  \n",
       "75%               495.630000      4.761905      24.781500    8.500000  \n",
       "max               993.000000      4.761905      49.650000   10.000000  "
      ]
     },
     "execution_count": 13,
     "metadata": {},
     "output_type": "execute_result"
    }
   ],
   "source": [
    "df.describe()"
   ]
  },
  {
   "attachments": {},
   "cell_type": "markdown",
   "id": "c39acd86",
   "metadata": {},
   "source": [
    "### .dtypes\n",
    "\n",
    "Retorna o tipo de cado de cada item"
   ]
  },
  {
   "cell_type": "code",
   "execution_count": null,
   "id": "d1e8fc68",
   "metadata": {},
   "outputs": [
    {
     "data": {
      "text/plain": [
       "Filial                    object\n",
       "Cidade                    object\n",
       "Tipo cliente              object\n",
       "Genero                    object\n",
       "Linha produto             object\n",
       "Preco unitario           float64\n",
       "Quantidade                 int64\n",
       "Taxa 5%                  float64\n",
       "Total                    float64\n",
       "Data                      object\n",
       "Hora                      object\n",
       "Forma pagamento           object\n",
       "Custo produto vendido    float64\n",
       "Margem bruta             float64\n",
       "Receita bruta            float64\n",
       "Rating                   float64\n",
       "dtype: object"
      ]
     },
     "metadata": {},
     "output_type": "display_data"
    }
   ],
   "source": [
    "df.dtypes"
   ]
  },
  {
   "cell_type": "code",
   "execution_count": null,
   "id": "eda6d1cb",
   "metadata": {},
   "outputs": [
    {
     "data": {
      "text/plain": [
       "Filial                    object\n",
       "Cidade                    object\n",
       "Tipo cliente              object\n",
       "Genero                    object\n",
       "Linha produto             object\n",
       "Preco unitario           float64\n",
       "Quantidade               float64\n",
       "Taxa 5%                  float64\n",
       "Total                    float64\n",
       "Data                      object\n",
       "Hora                      object\n",
       "Forma pagamento           object\n",
       "Custo produto vendido    float64\n",
       "Margem bruta             float64\n",
       "Receita bruta            float64\n",
       "Rating                   float64\n",
       "dtype: object"
      ]
     },
     "metadata": {},
     "output_type": "display_data"
    }
   ],
   "source": [
    "df[\"Quantidade\"] = df[\"Quantidade\"].astype(float)\n",
    "df.dtypes"
   ]
  },
  {
   "attachments": {},
   "cell_type": "markdown",
   "id": "1f92d24a",
   "metadata": {},
   "source": [
    "### .pivot\n",
    "\n",
    "Pivot permite, por exemplo, dividir os dados de uma coluna em várias. Isso pode ser feito discriminando os dados entre índices, valores etc."
   ]
  },
  {
   "cell_type": "code",
   "execution_count": 2,
   "id": "30c2dfc4",
   "metadata": {},
   "outputs": [],
   "source": [
    "import pandas as pd"
   ]
  },
  {
   "attachments": {},
   "cell_type": "markdown",
   "id": "f78dab8f",
   "metadata": {},
   "source": [
    "Usemos o exemplo de uma papelaria que contabilizou sua baixa de estoque"
   ]
  },
  {
   "cell_type": "code",
   "execution_count": 4,
   "id": "b9a6cc8e",
   "metadata": {},
   "outputs": [
    {
     "data": {
      "text/html": [
       "<div>\n",
       "<style scoped>\n",
       "    .dataframe tbody tr th:only-of-type {\n",
       "        vertical-align: middle;\n",
       "    }\n",
       "\n",
       "    .dataframe tbody tr th {\n",
       "        vertical-align: top;\n",
       "    }\n",
       "\n",
       "    .dataframe thead th {\n",
       "        text-align: right;\n",
       "    }\n",
       "</style>\n",
       "<table border=\"1\" class=\"dataframe\">\n",
       "  <thead>\n",
       "    <tr style=\"text-align: right;\">\n",
       "      <th></th>\n",
       "      <th>Entradas</th>\n",
       "      <th>Ano</th>\n",
       "      <th>Artigo</th>\n",
       "    </tr>\n",
       "  </thead>\n",
       "  <tbody>\n",
       "    <tr>\n",
       "      <th>0</th>\n",
       "      <td>15000</td>\n",
       "      <td>2020</td>\n",
       "      <td>Lápis</td>\n",
       "    </tr>\n",
       "    <tr>\n",
       "      <th>1</th>\n",
       "      <td>40000</td>\n",
       "      <td>2020</td>\n",
       "      <td>Canetas</td>\n",
       "    </tr>\n",
       "    <tr>\n",
       "      <th>2</th>\n",
       "      <td>31500</td>\n",
       "      <td>2021</td>\n",
       "      <td>Canetas</td>\n",
       "    </tr>\n",
       "    <tr>\n",
       "      <th>3</th>\n",
       "      <td>61200</td>\n",
       "      <td>2021</td>\n",
       "      <td>Lápis</td>\n",
       "    </tr>\n",
       "    <tr>\n",
       "      <th>4</th>\n",
       "      <td>39000</td>\n",
       "      <td>2021</td>\n",
       "      <td>Borrachas</td>\n",
       "    </tr>\n",
       "    <tr>\n",
       "      <th>5</th>\n",
       "      <td>30000</td>\n",
       "      <td>2020</td>\n",
       "      <td>Borrachas</td>\n",
       "    </tr>\n",
       "  </tbody>\n",
       "</table>\n",
       "</div>"
      ],
      "text/plain": [
       "   Entradas   Ano     Artigo\n",
       "0     15000  2020      Lápis\n",
       "1     40000  2020    Canetas\n",
       "2     31500  2021    Canetas\n",
       "3     61200  2021      Lápis\n",
       "4     39000  2021  Borrachas\n",
       "5     30000  2020  Borrachas"
      ]
     },
     "execution_count": 4,
     "metadata": {},
     "output_type": "execute_result"
    }
   ],
   "source": [
    "dados = {\n",
    "    'Entradas': [15000, 40000, 31500, 61200, 39000, 30000],\n",
    "    'Ano': ['2020', '2020', '2021', '2021', '2021', '2020'],\n",
    "    'Artigo': ['Lápis', 'Canetas', 'Canetas', 'Lápis', 'Borrachas', 'Borrachas']\n",
    "}\n",
    "df = pd.DataFrame(dados)\n",
    "df"
   ]
  },
  {
   "attachments": {},
   "cell_type": "markdown",
   "id": "b92746c0",
   "metadata": {},
   "source": [
    "Agora discriminaremos os dados do Data Frame criado. Utilizaremos a separação índice, coluna e valor."
   ]
  },
  {
   "cell_type": "code",
   "execution_count": 7,
   "id": "f390a5d3",
   "metadata": {},
   "outputs": [
    {
     "data": {
      "text/html": [
       "<div>\n",
       "<style scoped>\n",
       "    .dataframe tbody tr th:only-of-type {\n",
       "        vertical-align: middle;\n",
       "    }\n",
       "\n",
       "    .dataframe tbody tr th {\n",
       "        vertical-align: top;\n",
       "    }\n",
       "\n",
       "    .dataframe thead th {\n",
       "        text-align: right;\n",
       "    }\n",
       "</style>\n",
       "<table border=\"1\" class=\"dataframe\">\n",
       "  <thead>\n",
       "    <tr style=\"text-align: right;\">\n",
       "      <th>Ano</th>\n",
       "      <th>2020</th>\n",
       "      <th>2021</th>\n",
       "    </tr>\n",
       "    <tr>\n",
       "      <th>Artigo</th>\n",
       "      <th></th>\n",
       "      <th></th>\n",
       "    </tr>\n",
       "  </thead>\n",
       "  <tbody>\n",
       "    <tr>\n",
       "      <th>Borrachas</th>\n",
       "      <td>30000</td>\n",
       "      <td>39000</td>\n",
       "    </tr>\n",
       "    <tr>\n",
       "      <th>Canetas</th>\n",
       "      <td>40000</td>\n",
       "      <td>31500</td>\n",
       "    </tr>\n",
       "    <tr>\n",
       "      <th>Lápis</th>\n",
       "      <td>15000</td>\n",
       "      <td>61200</td>\n",
       "    </tr>\n",
       "  </tbody>\n",
       "</table>\n",
       "</div>"
      ],
      "text/plain": [
       "Ano         2020   2021\n",
       "Artigo                 \n",
       "Borrachas  30000  39000\n",
       "Canetas    40000  31500\n",
       "Lápis      15000  61200"
      ]
     },
     "execution_count": 7,
     "metadata": {},
     "output_type": "execute_result"
    }
   ],
   "source": [
    "pivot_df = df.pivot(index='Artigo', columns='Ano', values='Entradas')\n",
    "pivot_df"
   ]
  }
 ],
 "metadata": {
  "kernelspec": {
   "display_name": "Python 3 (ipykernel)",
   "language": "python",
   "name": "python3"
  },
  "language_info": {
   "codemirror_mode": {
    "name": "ipython",
    "version": 3
   },
   "file_extension": ".py",
   "mimetype": "text/x-python",
   "name": "python",
   "nbconvert_exporter": "python",
   "pygments_lexer": "ipython3",
   "version": "3.11.3"
  }
 },
 "nbformat": 4,
 "nbformat_minor": 5
}
